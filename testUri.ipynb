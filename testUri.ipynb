{
 "cells": [
  {
   "cell_type": "code",
   "execution_count": 1,
   "source": [
    "import requests"
   ],
   "outputs": [],
   "metadata": {}
  },
  {
   "cell_type": "code",
   "execution_count": 51,
   "source": [
    "url = 'http://128.199.247.96:3000/api/music'"
   ],
   "outputs": [],
   "metadata": {}
  },
  {
   "cell_type": "code",
   "execution_count": 52,
   "source": [
    "r = requests.get(url,allow_redirects=True)"
   ],
   "outputs": [],
   "metadata": {}
  },
  {
   "cell_type": "code",
   "execution_count": 53,
   "source": [
    "r"
   ],
   "outputs": [
    {
     "output_type": "execute_result",
     "data": {
      "text/plain": [
       "<Response [200]>"
      ]
     },
     "metadata": {},
     "execution_count": 53
    }
   ],
   "metadata": {}
  },
  {
   "cell_type": "code",
   "execution_count": 54,
   "source": [
    "r = str(r.content).split(\",\")"
   ],
   "outputs": [],
   "metadata": {}
  },
  {
   "cell_type": "code",
   "execution_count": 93,
   "source": [
    "r"
   ],
   "outputs": [
    {
     "output_type": "execute_result",
     "data": {
      "text/plain": [
       "['b\\'[\"http://128.199.247.96:3000/file/Sunkissed.mp3\"',\n",
       " '\"http://128.199.247.96:3000/file/JustinBieber-Sorry.mp3\"',\n",
       " '\"http://128.199.247.96:3000/file/EdSheeran-ShapeofYou.mp3\"',\n",
       " '\"http://128.199.247.96:3000/file/Maroon5-Sugar.mp3\"',\n",
       " '\"http://128.199.247.96:3000/file/OneRepublic-CountingStars.mp3\"',\n",
       " '\"http://128.199.247.96:3000/file/COVERALLYxTwoPopetorn-LikeImGonnaLoseYou.mp3\"',\n",
       " '\"http://128.199.247.96:3000/file/Anne-Marie-2002.mp3\"',\n",
       " '\"http://128.199.247.96:3000/file/TaylorSwift-YouBelongWithMe.mp3\"',\n",
       " '\"http://128.199.247.96:3000/file/EdSheeran-photograph.mp3\"',\n",
       " '\"http://128.199.247.96:3000/file/KatyPerry-DarkHorse.mp3\"]\\'']"
      ]
     },
     "metadata": {},
     "execution_count": 93
    }
   ],
   "metadata": {}
  },
  {
   "cell_type": "code",
   "execution_count": 94,
   "source": [
    "bill"
   ],
   "outputs": [
    {
     "output_type": "execute_result",
     "data": {
      "text/plain": [
       "[\"['b\\\\'[\",\n",
       " 'http://128.199.247.96:3000/file/Sunkissed.mp3',\n",
       " \"', '\",\n",
       " 'http://128.199.247.96:3000/file/JustinBieber-Sorry.mp3',\n",
       " \"', '\",\n",
       " 'http://128.199.247.96:3000/file/EdSheeran-ShapeofYou.mp3',\n",
       " \"', '\",\n",
       " 'http://128.199.247.96:3000/file/Maroon5-Sugar.mp3',\n",
       " \"', '\",\n",
       " 'http://128.199.247.96:3000/file/OneRepublic-CountingStars.mp3',\n",
       " \"', '\",\n",
       " 'http://128.199.247.96:3000/file/COVERALLYxTwoPopetorn-LikeImGonnaLoseYou.mp3',\n",
       " \"', '\",\n",
       " 'http://128.199.247.96:3000/file/Anne-Marie-2002.mp3',\n",
       " \"', '\",\n",
       " 'http://128.199.247.96:3000/file/TaylorSwift-YouBelongWithMe.mp3',\n",
       " \"', '\",\n",
       " 'http://128.199.247.96:3000/file/EdSheeran-photograph.mp3',\n",
       " \"', '\",\n",
       " 'http://128.199.247.96:3000/file/KatyPerry-DarkHorse.mp3',\n",
       " \"]\\\\'']\"]"
      ]
     },
     "metadata": {},
     "execution_count": 94
    }
   ],
   "metadata": {}
  },
  {
   "cell_type": "code",
   "execution_count": 115,
   "source": [
    "bill = str(r).split('\"')\r\n",
    "#อัจฉะริยะโค้ดดิ้ง\r\n",
    "#print(bill.index(\"['b\\\\'[\"))\r\n",
    "bill.pop(bill.index(\"['b\\\\'[\"))\r\n",
    "bill.pop(bill.index(\"]\\\\'']\"))\r\n",
    "#print(bill.index(\"', '\"))\r\n",
    "for i,we in enumerate(bill):\r\n",
    "    if we == \"', '\":\r\n",
    "        bill.pop(i)\r\n",
    "\r\n",
    "print(bill)\r\n"
   ],
   "outputs": [
    {
     "output_type": "stream",
     "name": "stdout",
     "text": [
      "['http://128.199.247.96:3000/file/Sunkissed.mp3', 'http://128.199.247.96:3000/file/JustinBieber-Sorry.mp3', 'http://128.199.247.96:3000/file/EdSheeran-ShapeofYou.mp3', 'http://128.199.247.96:3000/file/Maroon5-Sugar.mp3', 'http://128.199.247.96:3000/file/OneRepublic-CountingStars.mp3', 'http://128.199.247.96:3000/file/COVERALLYxTwoPopetorn-LikeImGonnaLoseYou.mp3', 'http://128.199.247.96:3000/file/Anne-Marie-2002.mp3', 'http://128.199.247.96:3000/file/TaylorSwift-YouBelongWithMe.mp3', 'http://128.199.247.96:3000/file/EdSheeran-photograph.mp3', 'http://128.199.247.96:3000/file/KatyPerry-DarkHorse.mp3']\n"
     ]
    }
   ],
   "metadata": {}
  },
  {
   "cell_type": "code",
   "execution_count": 34,
   "source": [
    "for \r\n"
   ],
   "outputs": [],
   "metadata": {}
  },
  {
   "cell_type": "code",
   "execution_count": null,
   "source": [
    "\r\n",
    "type(r[1])\r\n",
    "\r\n",
    "r[1] = r[1].replace('\"','')\r\n",
    "t1 = str.encode(r[1])"
   ],
   "outputs": [],
   "metadata": {}
  },
  {
   "cell_type": "code",
   "execution_count": 39,
   "source": [],
   "outputs": [
    {
     "output_type": "execute_result",
     "data": {
      "text/plain": [
       "'[http://128.199.247.96:3000/file/Sunkissed.mp3'"
      ]
     },
     "metadata": {},
     "execution_count": 39
    }
   ],
   "metadata": {}
  },
  {
   "cell_type": "code",
   "execution_count": 29,
   "source": [
    "\r\n",
    "\r\n",
    "print(r[1])"
   ],
   "outputs": [
    {
     "output_type": "stream",
     "name": "stdout",
     "text": [
      "http://128.199.247.96:3000/file/JustinBieber-Sorry.mp3\n"
     ]
    }
   ],
   "metadata": {}
  },
  {
   "cell_type": "code",
   "execution_count": 31,
   "source": [
    "with open(\"test123\", \"wb\") as file:\r\n",
    "    file.write(t1)"
   ],
   "outputs": [],
   "metadata": {}
  },
  {
   "cell_type": "code",
   "execution_count": 33,
   "source": [
    "import os\r\n",
    "os.remove('test123.mp3')"
   ],
   "outputs": [],
   "metadata": {}
  },
  {
   "cell_type": "code",
   "execution_count": null,
   "source": [],
   "outputs": [],
   "metadata": {}
  }
 ],
 "metadata": {
  "orig_nbformat": 4,
  "language_info": {
   "name": "python",
   "version": "3.9.1",
   "mimetype": "text/x-python",
   "codemirror_mode": {
    "name": "ipython",
    "version": 3
   },
   "pygments_lexer": "ipython3",
   "nbconvert_exporter": "python",
   "file_extension": ".py"
  },
  "kernelspec": {
   "name": "python3",
   "display_name": "Python 3.9.1 64-bit"
  },
  "interpreter": {
   "hash": "ac59ebe37160ed0dfa835113d9b8498d9f09ceb179beaac4002f036b9467c963"
  }
 },
 "nbformat": 4,
 "nbformat_minor": 2
}