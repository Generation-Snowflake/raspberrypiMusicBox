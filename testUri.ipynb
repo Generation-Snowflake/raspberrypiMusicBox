{
 "cells": [
  {
   "cell_type": "code",
   "execution_count": 25,
   "source": [
    "import requests\r\n",
    "url = 'http://128.199.247.96:3000/file/Sunkissed.mp3'  #playlist URL http://128.199.247.96:3000/api/music\r\n",
    "r = requests.get(url,allow_redirects=True)"
   ],
   "outputs": [],
   "metadata": {}
  },
  {
   "cell_type": "code",
   "execution_count": 2,
   "source": [
    "r = str(r.content).split(\",\")  # split each song to list"
   ],
   "outputs": [],
   "metadata": {}
  },
  {
   "cell_type": "code",
   "execution_count": null,
   "source": [],
   "outputs": [],
   "metadata": {}
  },
  {
   "cell_type": "code",
   "execution_count": 29,
   "source": [
    "url = 'http://128.199.247.96:3000/api/music'\r\n",
    "r = requests.get(url,allow_redirects=True)\r\n",
    "\r\n",
    "print(r.content)\r\n",
    "open('../playlist/Sunkissed.mp3',('wb')).write(r.content)"
   ],
   "outputs": [
    {
     "output_type": "stream",
     "name": "stdout",
     "text": [
      "b'[\"http://128.199.247.96:3000/file/Sunkissed.mp3\",\"http://128.199.247.96:3000/file/JustinBieber-Sorry.mp3\",\"http://128.199.247.96:3000/file/EdSheeran-ShapeofYou.mp3\",\"http://128.199.247.96:3000/file/Maroon5-Sugar.mp3\",\"http://128.199.247.96:3000/file/OneRepublic-CountingStars.mp3\",\"http://128.199.247.96:3000/file/COVERALLYxTwoPopetorn-LikeImGonnaLoseYou.mp3\",\"http://128.199.247.96:3000/file/Anne-Marie-2002.mp3\",\"http://128.199.247.96:3000/file/TaylorSwift-YouBelongWithMe.mp3\",\"http://128.199.247.96:3000/file/EdSheeran-photograph.mp3\",\"http://128.199.247.96:3000/file/KatyPerry-DarkHorse.mp3\"]'\n"
     ]
    },
    {
     "output_type": "execute_result",
     "data": {
      "text/plain": [
       "597"
      ]
     },
     "metadata": {},
     "execution_count": 29
    }
   ],
   "metadata": {}
  },
  {
   "cell_type": "code",
   "execution_count": 28,
   "source": [
    "\r\n",
    "bill = str(r).split('\"')\r\n",
    "#อัจฉะริยะโค้ดดิ้ง\r\n",
    "#print(bill.index(\"['b\\\\'[\"))\r\n",
    "bill.pop(bill.index(\"['b\\\\'[\"))\r\n",
    "bill.pop(bill.index(\"]\\\\'']\"))\r\n",
    "#print(bill.index(\"', '\"))\r\n",
    "for i,we in enumerate(bill):\r\n",
    "    if we == \"', '\":\r\n",
    "        bill.pop(i)\r\n",
    "print(bill)\r\n"
   ],
   "outputs": [
    {
     "output_type": "error",
     "ename": "IndentationError",
     "evalue": "expected an indented block (Temp/ipykernel_31480/261338048.py, line 13)",
     "traceback": [
      "\u001b[1;36m  File \u001b[1;32m\"C:\\Users\\nine_\\AppData\\Local\\Temp/ipykernel_31480/261338048.py\"\u001b[1;36m, line \u001b[1;32m13\u001b[0m\n\u001b[1;33m    \u001b[0m\n\u001b[1;37m    ^\u001b[0m\n\u001b[1;31mIndentationError\u001b[0m\u001b[1;31m:\u001b[0m expected an indented block\n"
     ]
    }
   ],
   "metadata": {}
  },
  {
   "cell_type": "code",
   "execution_count": 24,
   "source": [
    "from tqdm import tqdm\r\n",
    "# for i,x in enumerate(tqdm(bill)):\r\n",
    "#     n_url = bill[i]\r\n",
    "#     nr = requests.get(n_url,allow_redirects=True)\r\n",
    "#     df = x.split('/')\r\n",
    "# #print(nr)\r\n",
    "#     open(\"../playlist/\" + df[-1],('wb')).write(nr.content)\r\n",
    "os.mkdir(\"playlist2\")\r\n",
    "\r\n",
    "for i in tqdm(range (0,len(bill))):\r\n",
    "    df = bill[i].split('/')\r\n",
    "    nnr = requests.get(bill[i],allow_redirects=True)\r\n",
    "    open(\"../playlist/\"+df[-1],('wb')).write(nnr.content)"
   ],
   "outputs": [
    {
     "output_type": "stream",
     "name": "stderr",
     "text": [
      "100%|██████████| 10/10 [00:21<00:00,  2.15s/it]\n"
     ]
    }
   ],
   "metadata": {}
  },
  {
   "cell_type": "code",
   "execution_count": 5,
   "source": [
    "type(r[1])\r\n",
    "r[1] = r[1].replace('\"','')\r\n",
    "t1 = str.encode(r[1])"
   ],
   "outputs": [],
   "metadata": {}
  },
  {
   "cell_type": "code",
   "execution_count": 20,
   "source": [
    "import os\r\n",
    "#os.remove('test123.mp3')\r\n",
    "os.stat(\"../playlist\")\r\n"
   ],
   "outputs": [
    {
     "output_type": "execute_result",
     "data": {
      "text/plain": [
       "os.stat_result(st_mode=16895, st_ino=281474976961280, st_dev=579098239, st_nlink=1, st_uid=0, st_gid=0, st_size=4096, st_atime=1627578841, st_mtime=1627578841, st_ctime=1627578587)"
      ]
     },
     "metadata": {},
     "execution_count": 20
    }
   ],
   "metadata": {}
  },
  {
   "cell_type": "code",
   "execution_count": null,
   "source": [
    "dirpath='../playlist'\r\n",
    "dirs = [s for s in os.listdir(dirpath) if os.path.isdir(os.path.join(dirpath, s))]\r\n",
    "dirs.sort(key=lambda s: os.path.getmtime(os.path.join(dirpath, s)), reverse=True)\r\n",
    "\r\n",
    "# for dir_idx in range(0,len(dirs)/2):\r\n",
    "#     do_something(dirs[dir_idx])"
   ],
   "outputs": [],
   "metadata": {}
  }
 ],
 "metadata": {
  "orig_nbformat": 4,
  "language_info": {
   "name": "python",
   "version": "3.9.1",
   "mimetype": "text/x-python",
   "codemirror_mode": {
    "name": "ipython",
    "version": 3
   },
   "pygments_lexer": "ipython3",
   "nbconvert_exporter": "python",
   "file_extension": ".py"
  },
  "kernelspec": {
   "name": "python3",
   "display_name": "Python 3.9.1 64-bit"
  },
  "interpreter": {
   "hash": "ac59ebe37160ed0dfa835113d9b8498d9f09ceb179beaac4002f036b9467c963"
  }
 },
 "nbformat": 4,
 "nbformat_minor": 2
}