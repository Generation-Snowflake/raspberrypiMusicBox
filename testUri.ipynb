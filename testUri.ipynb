{
 "cells": [
  {
   "cell_type": "code",
   "execution_count": 3,
   "metadata": {},
   "outputs": [],
   "source": [
    "import requests\n",
    "url = 'http://128.199.247.96:3000/api/music'  #playlist URL http://128.199.247.96:3000/file/Sunkissed.mp3\n",
    "r = requests.get(url,allow_redirects=True)"
   ]
  },
  {
   "cell_type": "code",
   "execution_count": 5,
   "metadata": {},
   "outputs": [],
   "source": [
    "r = str(r.content).split(\",\")  # split each song to list"
   ]
  },
  {
   "cell_type": "code",
   "execution_count": null,
   "metadata": {},
   "outputs": [],
   "source": []
  },
  {
   "cell_type": "code",
   "execution_count": 29,
   "metadata": {},
   "outputs": [
    {
     "name": "stdout",
     "output_type": "stream",
     "text": [
      "b'[\"http://128.199.247.96:3000/file/Sunkissed.mp3\",\"http://128.199.247.96:3000/file/JustinBieber-Sorry.mp3\",\"http://128.199.247.96:3000/file/EdSheeran-ShapeofYou.mp3\",\"http://128.199.247.96:3000/file/Maroon5-Sugar.mp3\",\"http://128.199.247.96:3000/file/OneRepublic-CountingStars.mp3\",\"http://128.199.247.96:3000/file/COVERALLYxTwoPopetorn-LikeImGonnaLoseYou.mp3\",\"http://128.199.247.96:3000/file/Anne-Marie-2002.mp3\",\"http://128.199.247.96:3000/file/TaylorSwift-YouBelongWithMe.mp3\",\"http://128.199.247.96:3000/file/EdSheeran-photograph.mp3\",\"http://128.199.247.96:3000/file/KatyPerry-DarkHorse.mp3\"]'\n"
     ]
    },
    {
     "data": {
      "text/plain": [
       "597"
      ]
     },
     "execution_count": 29,
     "metadata": {},
     "output_type": "execute_result"
    }
   ],
   "source": [
    "url = 'http://128.199.247.96:3000/api/music'\r\n",
    "r = requests.get(url,allow_redirects=True)\r\n",
    "\r\n",
    "print(r.content)\r\n",
    "open('../playlist/Sunkissed.mp3',('wb')).write(r.content)"
   ]
  },
  {
   "cell_type": "code",
   "execution_count": 6,
   "metadata": {},
   "outputs": [
    {
     "name": "stdout",
     "output_type": "stream",
     "text": [
      "['http://128.199.247.96:3000/file/Sunkissed.mp3', 'http://128.199.247.96:3000/file/JustinBieber-Sorry.mp3', 'http://128.199.247.96:3000/file/EdSheeran-ShapeofYou.mp3', 'http://128.199.247.96:3000/file/Maroon5-Sugar.mp3', 'http://128.199.247.96:3000/file/OneRepublic-CountingStars.mp3', 'http://128.199.247.96:3000/file/COVERALLYxTwoPopetorn-LikeImGonnaLoseYou.mp3', 'http://128.199.247.96:3000/file/Anne-Marie-2002.mp3', 'http://128.199.247.96:3000/file/TaylorSwift-YouBelongWithMe.mp3', 'http://128.199.247.96:3000/file/EdSheeran-photograph.mp3', 'http://128.199.247.96:3000/file/KatyPerry-DarkHorse.mp3']\n"
     ]
    }
   ],
   "source": [
    "\r\n",
    "bill = str(r).split('\"')\r\n",
    "#อัจฉะริยะโค้ดดิ้ง\r\n",
    "#print(bill.index(\"['b\\\\'[\"))\r\n",
    "bill.pop(bill.index(\"['b\\\\'[\"))\r\n",
    "bill.pop(bill.index(\"]\\\\'']\"))\r\n",
    "#print(bill.index(\"', '\"))\r\n",
    "for i,we in enumerate(bill):\r\n",
    "    if we == \"', '\":\r\n",
    "        bill.pop(i)\r\n",
    "print(bill)\r\n"
   ]
  },
  {
   "cell_type": "code",
   "execution_count": 12,
   "metadata": {},
   "outputs": [
    {
     "ename": "FileExistsError",
     "evalue": "[Errno 17] File exists: 'playlist'",
     "output_type": "error",
     "traceback": [
      "\u001b[0;31m---------------------------------------------------------------------------\u001b[0m",
      "\u001b[0;31mFileExistsError\u001b[0m                           Traceback (most recent call last)",
      "\u001b[0;32m/tmp/ipykernel_46473/2829919122.py\u001b[0m in \u001b[0;36m<module>\u001b[0;34m\u001b[0m\n\u001b[1;32m      7\u001b[0m \u001b[0;31m# #print(nr)\u001b[0m\u001b[0;34m\u001b[0m\u001b[0;34m\u001b[0m\u001b[0;34m\u001b[0m\u001b[0m\n\u001b[1;32m      8\u001b[0m \u001b[0;31m#     open(\"../playlist/\" + df[-1],('wb')).write(nr.content)\u001b[0m\u001b[0;34m\u001b[0m\u001b[0;34m\u001b[0m\u001b[0;34m\u001b[0m\u001b[0m\n\u001b[0;32m----> 9\u001b[0;31m \u001b[0mos\u001b[0m\u001b[0;34m.\u001b[0m\u001b[0mmkdir\u001b[0m\u001b[0;34m(\u001b[0m\u001b[0;34m\"playlist\"\u001b[0m\u001b[0;34m)\u001b[0m\u001b[0;34m\u001b[0m\u001b[0;34m\u001b[0m\u001b[0m\n\u001b[0m\u001b[1;32m     10\u001b[0m \u001b[0;34m\u001b[0m\u001b[0m\n\u001b[1;32m     11\u001b[0m \u001b[0;32mfor\u001b[0m \u001b[0mi\u001b[0m \u001b[0;32min\u001b[0m \u001b[0mtqdm\u001b[0m\u001b[0;34m(\u001b[0m\u001b[0mrange\u001b[0m \u001b[0;34m(\u001b[0m\u001b[0;36m0\u001b[0m\u001b[0;34m,\u001b[0m\u001b[0mlen\u001b[0m\u001b[0;34m(\u001b[0m\u001b[0mbill\u001b[0m\u001b[0;34m)\u001b[0m\u001b[0;34m)\u001b[0m\u001b[0;34m)\u001b[0m\u001b[0;34m:\u001b[0m\u001b[0;34m\u001b[0m\u001b[0;34m\u001b[0m\u001b[0m\n",
      "\u001b[0;31mFileExistsError\u001b[0m: [Errno 17] File exists: 'playlist'"
     ]
    }
   ],
   "source": [
    "#install  pip install tqdm\n",
    "from tqdm import tqdm\n",
    "# for i,x in enumerate(tqdm(bill)):\n",
    "#     n_url = bill[i]\n",
    "#     nr = requests.get(n_url,allow_redirects=True)\n",
    "#     df = x.split('/')\n",
    "# #print(nr)\n",
    "#     open(\"../playlist/\" + df[-1],('wb')).write(nr.content)\n",
    "os.mkdir(\"playlist\")\n",
    "\n",
    "for i in tqdm(range (0,len(bill))):\n",
    "    df = bill[i].split('/')\n",
    "    nnr = requests.get(bill[i],allow_redirects=True)\n",
    "    open(\"../playlist/\"+df[-1],('wb')).write(nnr.content)"
   ]
  },
  {
   "cell_type": "code",
   "execution_count": 5,
   "metadata": {},
   "outputs": [],
   "source": [
    "type(r[1])\r\n",
    "r[1] = r[1].replace('\"','')\r\n",
    "t1 = str.encode(r[1])"
   ]
  },
  {
   "cell_type": "code",
   "execution_count": 20,
   "metadata": {},
   "outputs": [
    {
     "data": {
      "text/plain": [
       "os.stat_result(st_mode=16895, st_ino=281474976961280, st_dev=579098239, st_nlink=1, st_uid=0, st_gid=0, st_size=4096, st_atime=1627578841, st_mtime=1627578841, st_ctime=1627578587)"
      ]
     },
     "execution_count": 20,
     "metadata": {},
     "output_type": "execute_result"
    }
   ],
   "source": [
    "import os\r\n",
    "#os.remove('test123.mp3')\r\n",
    "os.stat(\"../playlist\")\r\n"
   ]
  },
  {
   "cell_type": "code",
   "execution_count": null,
   "metadata": {},
   "outputs": [],
   "source": [
    "dirpath='../playlist'\r\n",
    "dirs = [s for s in os.listdir(dirpath) if os.path.isdir(os.path.join(dirpath, s))]\r\n",
    "dirs.sort(key=lambda s: os.path.getmtime(os.path.join(dirpath, s)), reverse=True)\r\n",
    "\r\n",
    "# for dir_idx in range(0,len(dirs)/2):\r\n",
    "#     do_something(dirs[dir_idx])"
   ]
  }
 ],
 "metadata": {
  "interpreter": {
   "hash": "916dbcbb3f70747c44a77c7bcd40155683ae19c65e1c03b4aa3499c5328201f1"
  },
  "kernelspec": {
   "display_name": "Python 3.8.10 64-bit",
   "name": "python3"
  },
  "language_info": {
   "codemirror_mode": {
    "name": "ipython",
    "version": 3
   },
   "file_extension": ".py",
   "mimetype": "text/x-python",
   "name": "python",
   "nbconvert_exporter": "python",
   "pygments_lexer": "ipython3",
   "version": "3.8.10"
  },
  "orig_nbformat": 4
 },
 "nbformat": 4,
 "nbformat_minor": 2
}