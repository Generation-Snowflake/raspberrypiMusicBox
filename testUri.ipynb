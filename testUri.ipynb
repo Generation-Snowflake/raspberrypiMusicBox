{
 "cells": [
  {
   "cell_type": "code",
   "execution_count": 134,
   "source": [
    "import requests\r\n",
    "url = 'http://128.199.247.96:3000/api/music'  #playlist URL\r\n",
    "r = requests.get(url,allow_redirects=True)"
   ],
   "outputs": [],
   "metadata": {}
  },
  {
   "cell_type": "code",
   "execution_count": 135,
   "source": [
    "r = str(r.content).split(\",\")  # split each song to list"
   ],
   "outputs": [],
   "metadata": {}
  },
  {
   "cell_type": "code",
   "execution_count": null,
   "source": [
    "bill = str(r).split('\"')\r\n",
    "#อัจฉะริยะโค้ดดิ้ง\r\n",
    "#print(bill.index(\"['b\\\\'[\"))\r\n",
    "bill.pop(bill.index(\"['b\\\\'[\"))\r\n",
    "bill.pop(bill.index(\"]\\\\'']\"))\r\n",
    "#print(bill.index(\"', '\"))\r\n",
    "for i,we in enumerate(bill):\r\n",
    "    if we == \"', '\":\r\n",
    "        bill.pop(i)\r\n",
    "print(bill)\r\n"
   ],
   "outputs": [],
   "metadata": {}
  },
  {
   "cell_type": "code",
   "execution_count": 136,
   "source": [
    "from tqdm import tqdm\r\n",
    "for i,x in enumerate(tqdm(bill)):\r\n",
    "    n_url = bill[i]\r\n",
    "    nr = requests.get(n_url,allow_redirects=True)\r\n",
    "    df = x.split('/')\r\n",
    "#print(nr)\r\n",
    "    open(df[-1],('wb')).write(nr.content)"
   ],
   "outputs": [
    {
     "output_type": "stream",
     "name": "stderr",
     "text": [
      "100%|██████████| 10/10 [00:32<00:00,  3.21s/it]\n"
     ]
    }
   ],
   "metadata": {}
  },
  {
   "cell_type": "code",
   "execution_count": null,
   "source": [
    "type(r[1])\r\n",
    "r[1] = r[1].replace('\"','')\r\n",
    "t1 = str.encode(r[1])"
   ],
   "outputs": [],
   "metadata": {}
  },
  {
   "cell_type": "code",
   "execution_count": 33,
   "source": [
    "import os\r\n",
    "os.remove('test123.mp3')"
   ],
   "outputs": [],
   "metadata": {}
  }
 ],
 "metadata": {
  "orig_nbformat": 4,
  "language_info": {
   "name": "python",
   "version": "3.9.1",
   "mimetype": "text/x-python",
   "codemirror_mode": {
    "name": "ipython",
    "version": 3
   },
   "pygments_lexer": "ipython3",
   "nbconvert_exporter": "python",
   "file_extension": ".py"
  },
  "kernelspec": {
   "name": "python3",
   "display_name": "Python 3.9.1 64-bit"
  },
  "interpreter": {
   "hash": "ac59ebe37160ed0dfa835113d9b8498d9f09ceb179beaac4002f036b9467c963"
  }
 },
 "nbformat": 4,
 "nbformat_minor": 2
}