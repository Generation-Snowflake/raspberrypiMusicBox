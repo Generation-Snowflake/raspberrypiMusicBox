{
 "cells": [
  {
   "cell_type": "code",
   "execution_count": 1,
   "source": [
    "import mopidy\n",
    "import pykka"
   ],
   "outputs": [],
   "metadata": {}
  },
  {
   "cell_type": "code",
   "execution_count": 3,
   "source": [
    "from mopidy.core.tracklist import TracklistController"
   ],
   "outputs": [],
   "metadata": {}
  },
  {
   "cell_type": "code",
   "execution_count": null,
   "source": [],
   "outputs": [],
   "metadata": {}
  }
 ],
 "metadata": {
  "orig_nbformat": 4,
  "language_info": {
   "name": "python",
   "version": "3.9.6",
   "mimetype": "text/x-python",
   "codemirror_mode": {
    "name": "ipython",
    "version": 3
   },
   "pygments_lexer": "ipython3",
   "nbconvert_exporter": "python",
   "file_extension": ".py"
  },
  "kernelspec": {
   "name": "python3",
   "display_name": "Python 3.9.6 64-bit ('pimusic': conda)"
  },
  "interpreter": {
   "hash": "912d42410338ab06b8388208169547b2da051ce3584dd52c68b7bf1aee92f000"
  }
 },
 "nbformat": 4,
 "nbformat_minor": 2
}