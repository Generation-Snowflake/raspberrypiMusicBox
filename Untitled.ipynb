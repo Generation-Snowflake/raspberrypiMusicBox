{
 "cells": [
  {
   "cell_type": "code",
   "execution_count": 1,
   "id": "641828cf",
   "metadata": {},
   "outputs": [
    {
     "output_type": "stream",
     "name": "stdout",
     "text": [
      "pygame 2.0.1 (SDL 2.0.14, Python 3.9.6)\nHello from the pygame community. https://www.pygame.org/contribute.html\n"
     ]
    }
   ],
   "source": [
    "import os\n",
    "import pygame\n",
    "from datetime import datetime"
   ]
  },
  {
   "cell_type": "code",
   "execution_count": 16,
   "id": "127f0794",
   "metadata": {},
   "outputs": [],
   "source": [
    "def between(x, min, max):\n",
    "  return x >= min and x <= max"
   ]
  },
  {
   "cell_type": "code",
   "execution_count": 15,
   "metadata": {},
   "outputs": [
    {
     "output_type": "stream",
     "name": "stdout",
     "text": [
      "42\n"
     ]
    }
   ],
   "source": [
    "print(mins)"
   ]
  },
  {
   "cell_type": "code",
   "execution_count": 19,
   "metadata": {},
   "outputs": [],
   "source": [
    "mins = datetime.now().strftime('%M')"
   ]
  },
  {
   "cell_type": "code",
   "execution_count": 20,
   "id": "53d3463f",
   "metadata": {},
   "outputs": [
    {
     "output_type": "stream",
     "name": "stdout",
     "text": [
      "break5\n"
     ]
    }
   ],
   "source": [
    "if between(int(mins),0,9):\n",
    "    print('break1')\n",
    "elif between(int(mins),10,19):\n",
    "    print('break2')\n",
    "elif between(int(mins),20,29):\n",
    "    print('break3')\n",
    "elif between(int(mins),30,39):\n",
    "    print('break4')\n",
    "elif between(int(mins),40,49):\n",
    "    print('break5')\n",
    "else: print('break6')"
   ]
  },
  {
   "cell_type": "code",
   "execution_count": null,
   "metadata": {},
   "outputs": [],
   "source": []
  }
 ],
 "metadata": {
  "kernelspec": {
   "name": "python3",
   "display_name": "Python 3.9.6 64-bit ('udacity': conda)"
  },
  "language_info": {
   "codemirror_mode": {
    "name": "ipython",
    "version": 3
   },
   "file_extension": ".py",
   "mimetype": "text/x-python",
   "name": "python",
   "nbconvert_exporter": "python",
   "pygments_lexer": "ipython3",
   "version": "3.9.6"
  },
  "interpreter": {
   "hash": "a0794733c064dc5306da735027b592cfa6bd3caf2d1851ee1c82e3b3b1d1cf2b"
  }
 },
 "nbformat": 4,
 "nbformat_minor": 5
}