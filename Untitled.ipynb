{
 "cells": [
  {
   "cell_type": "code",
   "execution_count": 32,
   "source": [
    "import os\r\n",
    "import pygame\r\n",
    "from datetime import datetime\r\n",
    "from datetime import timedelta\r\n",
    "\r\n",
    "import sched, time\r\n",
    "import pause"
   ],
   "outputs": [],
   "metadata": {}
  },
  {
   "cell_type": "code",
   "execution_count": 33,
   "source": [
    "# initialising the pygame\r\n",
    "pygame.init()"
   ],
   "outputs": [
    {
     "output_type": "execute_result",
     "data": {
      "text/plain": [
       "(7, 0)"
      ]
     },
     "metadata": {},
     "execution_count": 33
    }
   ],
   "metadata": {}
  },
  {
   "cell_type": "code",
   "execution_count": 35,
   "source": [
    "pause.until(datetime(2021, 8, 7, 1, 3, 00))\r\n",
    "print('Hello')\r\n"
   ],
   "outputs": [
    {
     "output_type": "stream",
     "name": "stdout",
     "text": [
      "Hello\n"
     ]
    }
   ],
   "metadata": {}
  },
  {
   "cell_type": "code",
   "execution_count": null,
   "source": [],
   "outputs": [],
   "metadata": {}
  }
 ],
 "metadata": {
  "kernelspec": {
   "name": "python3",
   "display_name": "Python 3.9.6 64-bit ('udacity': conda)"
  },
  "language_info": {
   "codemirror_mode": {
    "name": "ipython",
    "version": 3
   },
   "file_extension": ".py",
   "mimetype": "text/x-python",
   "name": "python",
   "nbconvert_exporter": "python",
   "pygments_lexer": "ipython3",
   "version": "3.9.6"
  },
  "interpreter": {
   "hash": "a0794733c064dc5306da735027b592cfa6bd3caf2d1851ee1c82e3b3b1d1cf2b"
  }
 },
 "nbformat": 4,
 "nbformat_minor": 5
}