{
 "cells": [
  {
   "cell_type": "code",
   "execution_count": 1,
   "id": "641828cf",
   "metadata": {},
   "outputs": [
    {
     "name": "stdout",
     "output_type": "stream",
     "text": [
      "pygame 2.0.1 (SDL 2.0.14, Python 3.9.6)\n",
      "Hello from the pygame community. https://www.pygame.org/contribute.html\n"
     ]
    }
   ],
   "source": [
    "import os\n",
    "import pygame\n",
    "import datetime"
   ]
  },
  {
   "cell_type": "code",
   "execution_count": 2,
   "id": "811a4570",
   "metadata": {},
   "outputs": [],
   "source": [
    "pygame.init()\n",
    "pygame.mixer.init()"
   ]
  },
  {
   "cell_type": "code",
   "execution_count": 3,
   "id": "0e8b9200",
   "metadata": {},
   "outputs": [],
   "source": [
    "playlist = list()"
   ]
  },
  {
   "cell_type": "code",
   "execution_count": 4,
   "id": "0de57865",
   "metadata": {},
   "outputs": [],
   "source": [
    "playlist.append ( \"EdSheeran-photograph.mp3\" )\n",
    "playlist.append ( \"Sunkissed.mp3\" )\n",
    "playlist.append ( \"COVERALLYxTwoPopetorn-LikeImGonnaLoseYou.mp3\" )\n",
    "playlist.append ( \"EdSheeran-ShapeofYou.mp3\")\n",
    "playlist.append ( \"TaylorSwift-YouBelongWithMe.mp3\")\n",
    "playlist.append ( \"OneRepublic-CountingStars.mp3\")"
   ]
  },
  {
   "cell_type": "code",
   "execution_count": 5,
   "id": "288e4338",
   "metadata": {},
   "outputs": [
    {
     "data": {
      "text/plain": [
       "['EdSheeran-photograph.mp3',\n",
       " 'Sunkissed.mp3',\n",
       " 'COVERALLYxTwoPopetorn-LikeImGonnaLoseYou.mp3',\n",
       " 'EdSheeran-ShapeofYou.mp3',\n",
       " 'TaylorSwift-YouBelongWithMe.mp3',\n",
       " 'OneRepublic-CountingStars.mp3']"
      ]
     },
     "execution_count": 5,
     "metadata": {},
     "output_type": "execute_result"
    }
   ],
   "source": [
    "playlist"
   ]
  },
  {
   "cell_type": "code",
   "execution_count": 6,
   "id": "56d94399",
   "metadata": {},
   "outputs": [],
   "source": [
    "pygame.mixer.music.load ( playlist.pop(0) )  # Get the first track from the playlist\n",
    "pygame.mixer.music.queue ( playlist.pop(0) ) # Queue the 2nd song\n",
    "pygame.mixer.music.set_endevent ( pygame.USEREVENT )    # Setup the end track event\n",
    "pygame.mixer.music.play()           # Play the music"
   ]
  },
  {
   "cell_type": "code",
   "execution_count": 8,
   "id": "bb04939e",
   "metadata": {},
   "outputs": [
    {
     "ename": "KeyboardInterrupt",
     "evalue": "",
     "output_type": "error",
     "traceback": [
      "\u001b[1;31m---------------------------------------------------------------------------\u001b[0m",
      "\u001b[1;31mKeyboardInterrupt\u001b[0m                         Traceback (most recent call last)",
      "\u001b[1;32m~\\AppData\\Local\\Temp/ipykernel_18628/3322486220.py\u001b[0m in \u001b[0;36m<module>\u001b[1;34m\u001b[0m\n\u001b[0;32m      1\u001b[0m \u001b[0mrunning\u001b[0m \u001b[1;33m=\u001b[0m \u001b[1;32mTrue\u001b[0m\u001b[1;33m\u001b[0m\u001b[1;33m\u001b[0m\u001b[0m\n\u001b[0;32m      2\u001b[0m \u001b[1;32mwhile\u001b[0m \u001b[0mrunning\u001b[0m\u001b[1;33m:\u001b[0m\u001b[1;33m\u001b[0m\u001b[1;33m\u001b[0m\u001b[0m\n\u001b[1;32m----> 3\u001b[1;33m     \u001b[0mdate\u001b[0m \u001b[1;33m=\u001b[0m \u001b[0mdatetime\u001b[0m\u001b[1;33m.\u001b[0m\u001b[0mdatetime\u001b[0m\u001b[1;33m.\u001b[0m\u001b[0mnow\u001b[0m\u001b[1;33m(\u001b[0m\u001b[1;33m)\u001b[0m\u001b[1;33m\u001b[0m\u001b[1;33m\u001b[0m\u001b[0m\n\u001b[0m\u001b[0;32m      4\u001b[0m     \u001b[1;31m#print(date)\u001b[0m\u001b[1;33m\u001b[0m\u001b[1;33m\u001b[0m\u001b[1;33m\u001b[0m\u001b[0m\n\u001b[0;32m      5\u001b[0m     \u001b[1;32mfor\u001b[0m \u001b[0mevent\u001b[0m \u001b[1;32min\u001b[0m \u001b[0mpygame\u001b[0m\u001b[1;33m.\u001b[0m\u001b[0mevent\u001b[0m\u001b[1;33m.\u001b[0m\u001b[0mget\u001b[0m\u001b[1;33m(\u001b[0m\u001b[1;33m)\u001b[0m\u001b[1;33m:\u001b[0m\u001b[1;33m\u001b[0m\u001b[1;33m\u001b[0m\u001b[0m\n",
      "\u001b[1;31mKeyboardInterrupt\u001b[0m: "
     ]
    }
   ],
   "source": [
    "running = True\n",
    "while running:\n",
    "    date = datetime.datetime.now()\n",
    "    #print(date)\n",
    "    for event in pygame.event.get():\n",
    "        #date = datetime.datetime.now()\n",
    "        #print(date)\n",
    "        if event.type == pygame.USEREVENT:    # A track has ended\n",
    "            if len ( playlist ) > 0:       # If there are more tracks in the queue...\n",
    "                pygame.mixer.music.queue ( playlist.pop(0) ) # Q"
   ]
  },
  {
   "cell_type": "code",
   "execution_count": null,
   "id": "8b913c61",
   "metadata": {},
   "outputs": [],
   "source": [
    "import datetime"
   ]
  },
  {
   "cell_type": "code",
   "execution_count": null,
   "id": "bae893f6",
   "metadata": {},
   "outputs": [],
   "source": [
    "x=datetime.datetime.now()"
   ]
  },
  {
   "cell_type": "code",
   "execution_count": null,
   "id": "9601f3bf",
   "metadata": {},
   "outputs": [],
   "source": [
    "print(x.strftime(\"%H\"))"
   ]
  },
  {
   "cell_type": "code",
   "execution_count": null,
   "id": "d2b0c235",
   "metadata": {},
   "outputs": [],
   "source": [
    "if x.strftime(\"%H\") == \"22\" and x.strftime(\"%M\") == \"45\":\n",
    "    print('9')\n",
    "else:print('99')"
   ]
  },
  {
   "cell_type": "code",
   "execution_count": 9,
   "id": "272b9a9c",
   "metadata": {},
   "outputs": [],
   "source": [
    "pygame.mixer.music.stop() "
   ]
  },
  {
   "cell_type": "code",
   "execution_count": null,
   "id": "127f0794",
   "metadata": {},
   "outputs": [],
   "source": []
  },
  {
   "cell_type": "code",
   "execution_count": null,
   "id": "53d3463f",
   "metadata": {},
   "outputs": [],
   "source": []
  }
 ],
 "metadata": {
  "kernelspec": {
   "display_name": "Python 3 (ipykernel)",
   "language": "python",
   "name": "python3"
  },
  "language_info": {
   "codemirror_mode": {
    "name": "ipython",
    "version": 3
   },
   "file_extension": ".py",
   "mimetype": "text/x-python",
   "name": "python",
   "nbconvert_exporter": "python",
   "pygments_lexer": "ipython3",
   "version": "3.9.6"
  }
 },
 "nbformat": 4,
 "nbformat_minor": 5
}
